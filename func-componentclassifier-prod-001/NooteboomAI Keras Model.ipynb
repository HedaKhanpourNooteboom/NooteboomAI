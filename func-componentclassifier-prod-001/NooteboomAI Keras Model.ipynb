{
 "cells": [
  {
   "cell_type": "code",
   "execution_count": null,
   "id": "c2d14c21",
   "metadata": {},
   "outputs": [],
   "source": [
    "# Import libraries\n",
    "import os\n",
    "import pandas as pd\n",
    "\n",
    "import tensorflow as tf\n",
    "from tensorflow import keras\n",
    "from tensorflow.keras import layers\n",
    "from tensorflow.keras.applications import EfficientNetB0\n",
    "\n",
    "from PIL import Image\n",
    "\n",
    "import numpy as np\n",
    "import matplotlib.pyplot as plt\n"
   ]
  },
  {
   "cell_type": "code",
   "execution_count": null,
   "id": "c4b85202",
   "metadata": {},
   "outputs": [],
   "source": [
    "# Directories of dataset\n",
    "dataset_dir = \"C:/Users/hedak/PycharmProjects/NooteboomAI/func-imagerender-prod-001/dataset\"\n",
    "image_size = (1920, 1920)\n",
    "batch_size = 32\n",
    "num_classes = 3\n",
    "ds_size = 2187\n",
    "train_split = 0.8\n",
    "val_split = 0.1\n",
    "test_split = 0.1"
   ]
  },
  {
   "cell_type": "code",
   "execution_count": null,
   "id": "22924bc0",
   "metadata": {},
   "outputs": [],
   "source": [
    "data_ds = tf.keras.preprocessing.image_dataset_from_directory(\n",
    "    directory=dataset_dir,\n",
    "    labels='inferred',\n",
    "    label_mode='categorical',\n",
    "    batch_size=batch_size,\n",
    "    image_size=image_size)"
   ]
  },
  {
   "cell_type": "code",
   "execution_count": null,
   "id": "6bbff77c",
   "metadata": {},
   "outputs": [],
   "source": [
    "data_ds = data_ds.shuffle(10000, seed=12)"
   ]
  },
  {
   "cell_type": "code",
   "execution_count": null,
   "id": "d00dc127",
   "metadata": {},
   "outputs": [],
   "source": [
    "train_size = int(train_split * ds_size)\n",
    "val_size = int(val_split * ds_size)\n",
    "test_size = int(test_split * ds_size)\n",
    "\n",
    "train_ds = data_ds.take(train_size)    \n",
    "val_ds = data_ds.skip(train_size).take(val_size)\n",
    "test_ds = data_ds.skip(train_size).skip(test_size)"
   ]
  },
  {
   "cell_type": "code",
   "execution_count": null,
   "id": "34daeaee",
   "metadata": {},
   "outputs": [],
   "source": [
    "plt.figure(figsize=(10, 10))\n",
    "\n",
    "for images, labels in data_ds.take(1):\n",
    "    for i in range(32):\n",
    "        ax = plt.subplot(6, 6, i + 1)\n",
    "        plt.imshow(images[i].numpy().astype(\"uint8\"))\n",
    "        plt.title(labels[i])\n",
    "        plt.axis(\"off\")"
   ]
  },
  {
   "cell_type": "code",
   "execution_count": null,
   "id": "f8f6fa2c",
   "metadata": {},
   "outputs": [],
   "source": [
    "resizing_augmentation = tf.keras.Sequential(\n",
    "    [\n",
    "        layers.experimental.preprocessing.Resizing(224, 224),\n",
    "    ],\n",
    ")"
   ]
  },
  {
   "cell_type": "code",
   "execution_count": null,
   "id": "a69d57ee",
   "metadata": {
    "scrolled": true
   },
   "outputs": [],
   "source": [
    "inputs = layers.Input(shape=(1920, 1920, 3))\n",
    "x = resizing_augmentation(inputs)\n",
    "outputs = EfficientNetB0(include_top=True, weights=None, classes=num_classes)(x)\n",
    "\n",
    "model = tf.keras.Model(inputs, outputs)\n",
    "model.compile(\n",
    "    optimizer=\"adam\", loss=\"categorical_crossentropy\", metrics=[\"accuracy\"]\n",
    ")\n",
    "model.summary()"
   ]
  },
  {
   "cell_type": "code",
   "execution_count": null,
   "id": "a678a502",
   "metadata": {},
   "outputs": [],
   "source": [
    "epochs = 40  # @param {type: \"slider\", min:10, max:100}\n",
    "hist = model.fit(train_ds, epochs=epochs, validation_data=val_ds, verbose=2)"
   ]
  },
  {
   "cell_type": "code",
   "execution_count": null,
   "id": "cae1caf4",
   "metadata": {},
   "outputs": [],
   "source": [
    "results = model.evaluate(test_ds, batch_size=batch_size)"
   ]
  }
 ],
 "metadata": {
  "kernelspec": {
   "display_name": "Python 3",
   "language": "python",
   "name": "python3"
  },
  "language_info": {
   "codemirror_mode": {
    "name": "ipython",
    "version": 3
   },
   "file_extension": ".py",
   "mimetype": "text/x-python",
   "name": "python",
   "nbconvert_exporter": "python",
   "pygments_lexer": "ipython3",
   "version": "3.8.5"
  }
 },
 "nbformat": 4,
 "nbformat_minor": 5
}
